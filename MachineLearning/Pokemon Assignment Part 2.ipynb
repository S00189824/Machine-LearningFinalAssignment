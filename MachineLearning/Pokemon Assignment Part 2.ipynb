{
 "cells": [
  {
   "cell_type": "code",
   "execution_count": 33,
   "id": "7cdd6c78",
   "metadata": {},
   "outputs": [],
   "source": [
    "import tensorflow as tf\n",
    "import numpy as np\n",
    "import pandas as pd\n",
    "import matplotlib.pyplot as plt\n",
    "from sklearn.metrics import confusion_matrix, accuracy_score, ConfusionMatrixDisplay\n",
    "from sklearn.preprocessing import MinMaxScaler\n",
    "from tensorflow.keras import Sequential\n",
    "from keras.layers import Dense\n",
    "from sklearn.model_selection import train_test_split\n",
    "import glob\n",
    "from PIL import Image\n",
    "from tensorflow.keras import layers\n",
    "import pathlib\n",
    "from keras.preprocessing import dataset_utils\n",
    "from keras.layers.preprocessing import image_preprocessing\n"
   ]
  },
  {
   "cell_type": "code",
   "execution_count": 55,
   "id": "7c18ca43",
   "metadata": {},
   "outputs": [
    {
     "ename": "IndentationError",
     "evalue": "expected an indented block (3987075771.py, line 17)",
     "output_type": "error",
     "traceback": [
      "\u001b[1;36m  Input \u001b[1;32mIn [55]\u001b[1;36m\u001b[0m\n\u001b[1;33m    **kwargs):\u001b[0m\n\u001b[1;37m              ^\u001b[0m\n\u001b[1;31mIndentationError\u001b[0m\u001b[1;31m:\u001b[0m expected an indented block\n"
     ]
    }
   ],
   "source": [
    "# I am going to use the method of loading in the images as mentioned in the tf.keras document in website\n",
    "\n",
    "def image_dataset_from_directory(directory,\n",
    "                                 labels='inferred',\n",
    "                                 label_mode='int',\n",
    "                                 class_names=None,\n",
    "                                 color_mode='rgb',\n",
    "                                 batch_size=32,\n",
    "                                 image_size=(256, 256),\n",
    "                                 shuffle=True,\n",
    "                                 seed=189824,\n",
    "                                 validation_split=None,\n",
    "                                 subset=None,\n",
    "                                 interpolation='bilinear',\n",
    "                                 follow_links=False,\n",
    "                                 crop_to_aspect_ratio=False,\n",
    "                                 **kwargs):"
   ]
  },
  {
   "cell_type": "code",
   "execution_count": null,
   "id": "584019e7",
   "metadata": {},
   "outputs": [],
   "source": []
  },
  {
   "cell_type": "code",
   "execution_count": null,
   "id": "868e7357",
   "metadata": {},
   "outputs": [],
   "source": []
  }
 ],
 "metadata": {
  "kernelspec": {
   "display_name": "Python 3 (ipykernel)",
   "language": "python",
   "name": "python3"
  },
  "language_info": {
   "codemirror_mode": {
    "name": "ipython",
    "version": 3
   },
   "file_extension": ".py",
   "mimetype": "text/x-python",
   "name": "python",
   "nbconvert_exporter": "python",
   "pygments_lexer": "ipython3",
   "version": "3.9.12"
  }
 },
 "nbformat": 4,
 "nbformat_minor": 5
}
